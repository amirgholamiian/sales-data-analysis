{
 "cells": [
  {
   "cell_type": "markdown",
   "id": "d23c67e6",
   "metadata": {},
   "source": [
    "# 📊 Sales Data Analysis\n",
    "This notebook provides exploratory data analysis on a fictional sales dataset."
   ]
  },
  {
   "cell_type": "code",
   "execution_count": null,
   "id": "c74d60b2",
   "metadata": {},
   "outputs": [],
   "source": [
    "import pandas as pd\n",
    "import matplotlib.pyplot as plt\n",
    "import seaborn as sns\n",
    "\n",
    "# Load dataset\n",
    "df = pd.read_csv('data/sales_data.csv')\n",
    "df.head()"
   ]
  },
  {
   "cell_type": "markdown",
   "id": "6faf5397",
   "metadata": {},
   "source": [
    "## 🔹 Monthly Sales Trend"
   ]
  },
  {
   "cell_type": "code",
   "execution_count": null,
   "id": "ca77b52a",
   "metadata": {},
   "outputs": [],
   "source": [
    "# Example plot\n",
    "monthly_sales = df.groupby(pd.to_datetime(df['Date']).dt.to_period('M'))['Total_Sales'].sum()\n",
    "monthly_sales.plot(kind='line', marker='o')\n",
    "plt.title('Monthly Sales')\n",
    "plt.ylabel('Total Sales (€)')\n",
    "plt.show()"
   ]
  }
 ],
 "metadata": {},
 "nbformat": 4,
 "nbformat_minor": 5
}
